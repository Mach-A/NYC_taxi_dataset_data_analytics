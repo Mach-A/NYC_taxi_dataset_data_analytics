{
  "nbformat": 4,
  "nbformat_minor": 0,
  "metadata": {
    "colab": {
      "provenance": [],
      "machine_shape": "hm"
    },
    "kernelspec": {
      "name": "python3",
      "display_name": "Python 3"
    },
    "language_info": {
      "name": "python"
    }
  },
  "cells": [
    {
      "cell_type": "code",
      "source": [
        "# install and set up Spark -- PySpark\n",
        "\n",
        "# SYSTEM SETUP\n",
        "!sudo apt update\n",
        "!apt-get install openjdk-8-jdk-headless -qq > /dev/null\n",
        "\n",
        "# ✅ Correct download link for Spark 3.4.1 (tested)\n",
        "!wget -q https://archive.apache.org/dist/spark/spark-3.4.1/spark-3.4.1-bin-hadoop3.tgz\n",
        "\n",
        "# ✅ Extract Spark package\n",
        "!tar -xzf spark-3.4.1-bin-hadoop3.tgz\n",
        "\n",
        "# Install Spark Python bindings\n",
        "!pip install -q findspark\n",
        "!pip install -q pyspark py4j\n",
        "\n",
        "import os\n",
        "import findspark\n",
        "\n",
        "# ✅ Set environment paths\n",
        "os.environ[\"JAVA_HOME\"] = \"/usr/lib/jvm/java-8-openjdk-amd64\"\n",
        "os.environ[\"SPARK_HOME\"] = \"/content/spark-3.4.1-bin-hadoop3\"\n",
        "\n",
        "# ✅ Initialize Spark\n",
        "findspark.init()\n",
        "\n",
        "from pyspark.sql import SparkSession\n",
        "\n",
        "# Start Spark session\n",
        "spark = SparkSession.builder \\\n",
        "    .appName(\"NYC Yellow Taxi Data Analytics\") \\\n",
        "    .getOrCreate()\n",
        "\n",
        "spark\n"
      ],
      "metadata": {
        "colab": {
          "base_uri": "https://localhost:8080/",
          "height": 634
        },
        "id": "NP5VGZ-DGK1u",
        "outputId": "88af9f48-e4ef-4293-85e4-e86c5a591e92"
      },
      "execution_count": 1,
      "outputs": [
        {
          "output_type": "stream",
          "name": "stdout",
          "text": [
            "Hit:1 http://archive.ubuntu.com/ubuntu jammy InRelease\n",
            "Get:2 http://archive.ubuntu.com/ubuntu jammy-updates InRelease [128 kB]\n",
            "Get:3 https://cloud.r-project.org/bin/linux/ubuntu jammy-cran40/ InRelease [3,632 B]\n",
            "Get:4 https://developer.download.nvidia.com/compute/cuda/repos/ubuntu2204/x86_64  InRelease [1,581 B]\n",
            "Get:5 http://security.ubuntu.com/ubuntu jammy-security InRelease [129 kB]\n",
            "Get:6 https://r2u.stat.illinois.edu/ubuntu jammy InRelease [6,555 B]\n",
            "Get:7 http://archive.ubuntu.com/ubuntu jammy-backports InRelease [127 kB]\n",
            "Hit:8 https://ppa.launchpadcontent.net/deadsnakes/ppa/ubuntu jammy InRelease\n",
            "Get:9 https://developer.download.nvidia.com/compute/cuda/repos/ubuntu2204/x86_64  Packages [1,607 kB]\n",
            "Get:10 http://archive.ubuntu.com/ubuntu jammy-updates/universe amd64 Packages [1,543 kB]\n",
            "Get:11 https://ppa.launchpadcontent.net/graphics-drivers/ppa/ubuntu jammy InRelease [24.3 kB]\n",
            "Get:12 http://archive.ubuntu.com/ubuntu jammy-updates/main amd64 Packages [3,154 kB]\n",
            "Hit:13 https://ppa.launchpadcontent.net/ubuntugis/ppa/ubuntu jammy InRelease\n",
            "Get:14 https://r2u.stat.illinois.edu/ubuntu jammy/main amd64 Packages [2,700 kB]\n",
            "Get:15 https://r2u.stat.illinois.edu/ubuntu jammy/main all Packages [8,863 kB]\n",
            "Get:16 https://ppa.launchpadcontent.net/graphics-drivers/ppa/ubuntu jammy/main amd64 Packages [47.4 kB]\n",
            "Fetched 18.3 MB in 2s (10.4 MB/s)\n",
            "Reading package lists... Done\n",
            "Building dependency tree... Done\n",
            "Reading state information... Done\n",
            "35 packages can be upgraded. Run 'apt list --upgradable' to see them.\n",
            "\u001b[1;33mW: \u001b[0mSkipping acquire of configured file 'main/source/Sources' as repository 'https://r2u.stat.illinois.edu/ubuntu jammy InRelease' does not seem to provide it (sources.list entry misspelt?)\u001b[0m\n"
          ]
        },
        {
          "output_type": "execute_result",
          "data": {
            "text/plain": [
              "<pyspark.sql.session.SparkSession at 0x7dca985c5dd0>"
            ],
            "text/html": [
              "\n",
              "            <div>\n",
              "                <p><b>SparkSession - in-memory</b></p>\n",
              "                \n",
              "        <div>\n",
              "            <p><b>SparkContext</b></p>\n",
              "\n",
              "            <p><a href=\"http://34a0258cdd2b:4040\">Spark UI</a></p>\n",
              "\n",
              "            <dl>\n",
              "              <dt>Version</dt>\n",
              "                <dd><code>v3.4.1</code></dd>\n",
              "              <dt>Master</dt>\n",
              "                <dd><code>local[*]</code></dd>\n",
              "              <dt>AppName</dt>\n",
              "                <dd><code>NYC Yellow Taxi Data Analytics</code></dd>\n",
              "            </dl>\n",
              "        </div>\n",
              "        \n",
              "            </div>\n",
              "        "
            ]
          },
          "metadata": {},
          "execution_count": 1
        }
      ]
    },
    {
      "cell_type": "code",
      "source": [
        "spark"
      ],
      "metadata": {
        "id": "hgUYVfUly0UQ",
        "colab": {
          "base_uri": "https://localhost:8080/",
          "height": 221
        },
        "outputId": "7a6b7e8e-3b98-44ba-bb01-13f0a7c76152"
      },
      "execution_count": 2,
      "outputs": [
        {
          "output_type": "execute_result",
          "data": {
            "text/plain": [
              "<pyspark.sql.session.SparkSession at 0x7dca985c5dd0>"
            ],
            "text/html": [
              "\n",
              "            <div>\n",
              "                <p><b>SparkSession - in-memory</b></p>\n",
              "                \n",
              "        <div>\n",
              "            <p><b>SparkContext</b></p>\n",
              "\n",
              "            <p><a href=\"http://34a0258cdd2b:4040\">Spark UI</a></p>\n",
              "\n",
              "            <dl>\n",
              "              <dt>Version</dt>\n",
              "                <dd><code>v3.4.1</code></dd>\n",
              "              <dt>Master</dt>\n",
              "                <dd><code>local[*]</code></dd>\n",
              "              <dt>AppName</dt>\n",
              "                <dd><code>NYC Yellow Taxi Data Analytics</code></dd>\n",
              "            </dl>\n",
              "        </div>\n",
              "        \n",
              "            </div>\n",
              "        "
            ]
          },
          "metadata": {},
          "execution_count": 2
        }
      ]
    },
    {
      "cell_type": "code",
      "source": [
        "# access the taxi_zones dataset\n",
        "from google.colab import files\n",
        "uploaded = files.upload()"
      ],
      "metadata": {
        "id": "G4tiku2Ly8xB",
        "colab": {
          "base_uri": "https://localhost:8080/",
          "height": 74
        },
        "outputId": "99733118-3a6a-4242-ec77-c313e1ef5099"
      },
      "execution_count": 3,
      "outputs": [
        {
          "output_type": "display_data",
          "data": {
            "text/plain": [
              "<IPython.core.display.HTML object>"
            ],
            "text/html": [
              "\n",
              "     <input type=\"file\" id=\"files-4ec6fee6-3ba4-4a34-9cb9-74435e6cd08a\" name=\"files[]\" multiple disabled\n",
              "        style=\"border:none\" />\n",
              "     <output id=\"result-4ec6fee6-3ba4-4a34-9cb9-74435e6cd08a\">\n",
              "      Upload widget is only available when the cell has been executed in the\n",
              "      current browser session. Please rerun this cell to enable.\n",
              "      </output>\n",
              "      <script>// Copyright 2017 Google LLC\n",
              "//\n",
              "// Licensed under the Apache License, Version 2.0 (the \"License\");\n",
              "// you may not use this file except in compliance with the License.\n",
              "// You may obtain a copy of the License at\n",
              "//\n",
              "//      http://www.apache.org/licenses/LICENSE-2.0\n",
              "//\n",
              "// Unless required by applicable law or agreed to in writing, software\n",
              "// distributed under the License is distributed on an \"AS IS\" BASIS,\n",
              "// WITHOUT WARRANTIES OR CONDITIONS OF ANY KIND, either express or implied.\n",
              "// See the License for the specific language governing permissions and\n",
              "// limitations under the License.\n",
              "\n",
              "/**\n",
              " * @fileoverview Helpers for google.colab Python module.\n",
              " */\n",
              "(function(scope) {\n",
              "function span(text, styleAttributes = {}) {\n",
              "  const element = document.createElement('span');\n",
              "  element.textContent = text;\n",
              "  for (const key of Object.keys(styleAttributes)) {\n",
              "    element.style[key] = styleAttributes[key];\n",
              "  }\n",
              "  return element;\n",
              "}\n",
              "\n",
              "// Max number of bytes which will be uploaded at a time.\n",
              "const MAX_PAYLOAD_SIZE = 100 * 1024;\n",
              "\n",
              "function _uploadFiles(inputId, outputId) {\n",
              "  const steps = uploadFilesStep(inputId, outputId);\n",
              "  const outputElement = document.getElementById(outputId);\n",
              "  // Cache steps on the outputElement to make it available for the next call\n",
              "  // to uploadFilesContinue from Python.\n",
              "  outputElement.steps = steps;\n",
              "\n",
              "  return _uploadFilesContinue(outputId);\n",
              "}\n",
              "\n",
              "// This is roughly an async generator (not supported in the browser yet),\n",
              "// where there are multiple asynchronous steps and the Python side is going\n",
              "// to poll for completion of each step.\n",
              "// This uses a Promise to block the python side on completion of each step,\n",
              "// then passes the result of the previous step as the input to the next step.\n",
              "function _uploadFilesContinue(outputId) {\n",
              "  const outputElement = document.getElementById(outputId);\n",
              "  const steps = outputElement.steps;\n",
              "\n",
              "  const next = steps.next(outputElement.lastPromiseValue);\n",
              "  return Promise.resolve(next.value.promise).then((value) => {\n",
              "    // Cache the last promise value to make it available to the next\n",
              "    // step of the generator.\n",
              "    outputElement.lastPromiseValue = value;\n",
              "    return next.value.response;\n",
              "  });\n",
              "}\n",
              "\n",
              "/**\n",
              " * Generator function which is called between each async step of the upload\n",
              " * process.\n",
              " * @param {string} inputId Element ID of the input file picker element.\n",
              " * @param {string} outputId Element ID of the output display.\n",
              " * @return {!Iterable<!Object>} Iterable of next steps.\n",
              " */\n",
              "function* uploadFilesStep(inputId, outputId) {\n",
              "  const inputElement = document.getElementById(inputId);\n",
              "  inputElement.disabled = false;\n",
              "\n",
              "  const outputElement = document.getElementById(outputId);\n",
              "  outputElement.innerHTML = '';\n",
              "\n",
              "  const pickedPromise = new Promise((resolve) => {\n",
              "    inputElement.addEventListener('change', (e) => {\n",
              "      resolve(e.target.files);\n",
              "    });\n",
              "  });\n",
              "\n",
              "  const cancel = document.createElement('button');\n",
              "  inputElement.parentElement.appendChild(cancel);\n",
              "  cancel.textContent = 'Cancel upload';\n",
              "  const cancelPromise = new Promise((resolve) => {\n",
              "    cancel.onclick = () => {\n",
              "      resolve(null);\n",
              "    };\n",
              "  });\n",
              "\n",
              "  // Wait for the user to pick the files.\n",
              "  const files = yield {\n",
              "    promise: Promise.race([pickedPromise, cancelPromise]),\n",
              "    response: {\n",
              "      action: 'starting',\n",
              "    }\n",
              "  };\n",
              "\n",
              "  cancel.remove();\n",
              "\n",
              "  // Disable the input element since further picks are not allowed.\n",
              "  inputElement.disabled = true;\n",
              "\n",
              "  if (!files) {\n",
              "    return {\n",
              "      response: {\n",
              "        action: 'complete',\n",
              "      }\n",
              "    };\n",
              "  }\n",
              "\n",
              "  for (const file of files) {\n",
              "    const li = document.createElement('li');\n",
              "    li.append(span(file.name, {fontWeight: 'bold'}));\n",
              "    li.append(span(\n",
              "        `(${file.type || 'n/a'}) - ${file.size} bytes, ` +\n",
              "        `last modified: ${\n",
              "            file.lastModifiedDate ? file.lastModifiedDate.toLocaleDateString() :\n",
              "                                    'n/a'} - `));\n",
              "    const percent = span('0% done');\n",
              "    li.appendChild(percent);\n",
              "\n",
              "    outputElement.appendChild(li);\n",
              "\n",
              "    const fileDataPromise = new Promise((resolve) => {\n",
              "      const reader = new FileReader();\n",
              "      reader.onload = (e) => {\n",
              "        resolve(e.target.result);\n",
              "      };\n",
              "      reader.readAsArrayBuffer(file);\n",
              "    });\n",
              "    // Wait for the data to be ready.\n",
              "    let fileData = yield {\n",
              "      promise: fileDataPromise,\n",
              "      response: {\n",
              "        action: 'continue',\n",
              "      }\n",
              "    };\n",
              "\n",
              "    // Use a chunked sending to avoid message size limits. See b/62115660.\n",
              "    let position = 0;\n",
              "    do {\n",
              "      const length = Math.min(fileData.byteLength - position, MAX_PAYLOAD_SIZE);\n",
              "      const chunk = new Uint8Array(fileData, position, length);\n",
              "      position += length;\n",
              "\n",
              "      const base64 = btoa(String.fromCharCode.apply(null, chunk));\n",
              "      yield {\n",
              "        response: {\n",
              "          action: 'append',\n",
              "          file: file.name,\n",
              "          data: base64,\n",
              "        },\n",
              "      };\n",
              "\n",
              "      let percentDone = fileData.byteLength === 0 ?\n",
              "          100 :\n",
              "          Math.round((position / fileData.byteLength) * 100);\n",
              "      percent.textContent = `${percentDone}% done`;\n",
              "\n",
              "    } while (position < fileData.byteLength);\n",
              "  }\n",
              "\n",
              "  // All done.\n",
              "  yield {\n",
              "    response: {\n",
              "      action: 'complete',\n",
              "    }\n",
              "  };\n",
              "}\n",
              "\n",
              "scope.google = scope.google || {};\n",
              "scope.google.colab = scope.google.colab || {};\n",
              "scope.google.colab._files = {\n",
              "  _uploadFiles,\n",
              "  _uploadFilesContinue,\n",
              "};\n",
              "})(self);\n",
              "</script> "
            ]
          },
          "metadata": {}
        },
        {
          "output_type": "stream",
          "name": "stdout",
          "text": [
            "Saving taxi_zone_lookup.csv to taxi_zone_lookup.csv\n"
          ]
        }
      ]
    },
    {
      "cell_type": "code",
      "source": [
        "# Then we move to the main Yellow Taxi data for 6 months Jan-June 2024\n",
        "uploaded = files.upload()"
      ],
      "metadata": {
        "id": "tmP2yJK6y9jr",
        "colab": {
          "base_uri": "https://localhost:8080/",
          "height": 250
        },
        "outputId": "92e394c4-6bcb-4464-9452-2f5d9567e4bb"
      },
      "execution_count": 4,
      "outputs": [
        {
          "output_type": "display_data",
          "data": {
            "text/plain": [
              "<IPython.core.display.HTML object>"
            ],
            "text/html": [
              "\n",
              "     <input type=\"file\" id=\"files-7b570cf0-df9c-4f18-a88a-10057b883ed7\" name=\"files[]\" multiple disabled\n",
              "        style=\"border:none\" />\n",
              "     <output id=\"result-7b570cf0-df9c-4f18-a88a-10057b883ed7\">\n",
              "      Upload widget is only available when the cell has been executed in the\n",
              "      current browser session. Please rerun this cell to enable.\n",
              "      </output>\n",
              "      <script>// Copyright 2017 Google LLC\n",
              "//\n",
              "// Licensed under the Apache License, Version 2.0 (the \"License\");\n",
              "// you may not use this file except in compliance with the License.\n",
              "// You may obtain a copy of the License at\n",
              "//\n",
              "//      http://www.apache.org/licenses/LICENSE-2.0\n",
              "//\n",
              "// Unless required by applicable law or agreed to in writing, software\n",
              "// distributed under the License is distributed on an \"AS IS\" BASIS,\n",
              "// WITHOUT WARRANTIES OR CONDITIONS OF ANY KIND, either express or implied.\n",
              "// See the License for the specific language governing permissions and\n",
              "// limitations under the License.\n",
              "\n",
              "/**\n",
              " * @fileoverview Helpers for google.colab Python module.\n",
              " */\n",
              "(function(scope) {\n",
              "function span(text, styleAttributes = {}) {\n",
              "  const element = document.createElement('span');\n",
              "  element.textContent = text;\n",
              "  for (const key of Object.keys(styleAttributes)) {\n",
              "    element.style[key] = styleAttributes[key];\n",
              "  }\n",
              "  return element;\n",
              "}\n",
              "\n",
              "// Max number of bytes which will be uploaded at a time.\n",
              "const MAX_PAYLOAD_SIZE = 100 * 1024;\n",
              "\n",
              "function _uploadFiles(inputId, outputId) {\n",
              "  const steps = uploadFilesStep(inputId, outputId);\n",
              "  const outputElement = document.getElementById(outputId);\n",
              "  // Cache steps on the outputElement to make it available for the next call\n",
              "  // to uploadFilesContinue from Python.\n",
              "  outputElement.steps = steps;\n",
              "\n",
              "  return _uploadFilesContinue(outputId);\n",
              "}\n",
              "\n",
              "// This is roughly an async generator (not supported in the browser yet),\n",
              "// where there are multiple asynchronous steps and the Python side is going\n",
              "// to poll for completion of each step.\n",
              "// This uses a Promise to block the python side on completion of each step,\n",
              "// then passes the result of the previous step as the input to the next step.\n",
              "function _uploadFilesContinue(outputId) {\n",
              "  const outputElement = document.getElementById(outputId);\n",
              "  const steps = outputElement.steps;\n",
              "\n",
              "  const next = steps.next(outputElement.lastPromiseValue);\n",
              "  return Promise.resolve(next.value.promise).then((value) => {\n",
              "    // Cache the last promise value to make it available to the next\n",
              "    // step of the generator.\n",
              "    outputElement.lastPromiseValue = value;\n",
              "    return next.value.response;\n",
              "  });\n",
              "}\n",
              "\n",
              "/**\n",
              " * Generator function which is called between each async step of the upload\n",
              " * process.\n",
              " * @param {string} inputId Element ID of the input file picker element.\n",
              " * @param {string} outputId Element ID of the output display.\n",
              " * @return {!Iterable<!Object>} Iterable of next steps.\n",
              " */\n",
              "function* uploadFilesStep(inputId, outputId) {\n",
              "  const inputElement = document.getElementById(inputId);\n",
              "  inputElement.disabled = false;\n",
              "\n",
              "  const outputElement = document.getElementById(outputId);\n",
              "  outputElement.innerHTML = '';\n",
              "\n",
              "  const pickedPromise = new Promise((resolve) => {\n",
              "    inputElement.addEventListener('change', (e) => {\n",
              "      resolve(e.target.files);\n",
              "    });\n",
              "  });\n",
              "\n",
              "  const cancel = document.createElement('button');\n",
              "  inputElement.parentElement.appendChild(cancel);\n",
              "  cancel.textContent = 'Cancel upload';\n",
              "  const cancelPromise = new Promise((resolve) => {\n",
              "    cancel.onclick = () => {\n",
              "      resolve(null);\n",
              "    };\n",
              "  });\n",
              "\n",
              "  // Wait for the user to pick the files.\n",
              "  const files = yield {\n",
              "    promise: Promise.race([pickedPromise, cancelPromise]),\n",
              "    response: {\n",
              "      action: 'starting',\n",
              "    }\n",
              "  };\n",
              "\n",
              "  cancel.remove();\n",
              "\n",
              "  // Disable the input element since further picks are not allowed.\n",
              "  inputElement.disabled = true;\n",
              "\n",
              "  if (!files) {\n",
              "    return {\n",
              "      response: {\n",
              "        action: 'complete',\n",
              "      }\n",
              "    };\n",
              "  }\n",
              "\n",
              "  for (const file of files) {\n",
              "    const li = document.createElement('li');\n",
              "    li.append(span(file.name, {fontWeight: 'bold'}));\n",
              "    li.append(span(\n",
              "        `(${file.type || 'n/a'}) - ${file.size} bytes, ` +\n",
              "        `last modified: ${\n",
              "            file.lastModifiedDate ? file.lastModifiedDate.toLocaleDateString() :\n",
              "                                    'n/a'} - `));\n",
              "    const percent = span('0% done');\n",
              "    li.appendChild(percent);\n",
              "\n",
              "    outputElement.appendChild(li);\n",
              "\n",
              "    const fileDataPromise = new Promise((resolve) => {\n",
              "      const reader = new FileReader();\n",
              "      reader.onload = (e) => {\n",
              "        resolve(e.target.result);\n",
              "      };\n",
              "      reader.readAsArrayBuffer(file);\n",
              "    });\n",
              "    // Wait for the data to be ready.\n",
              "    let fileData = yield {\n",
              "      promise: fileDataPromise,\n",
              "      response: {\n",
              "        action: 'continue',\n",
              "      }\n",
              "    };\n",
              "\n",
              "    // Use a chunked sending to avoid message size limits. See b/62115660.\n",
              "    let position = 0;\n",
              "    do {\n",
              "      const length = Math.min(fileData.byteLength - position, MAX_PAYLOAD_SIZE);\n",
              "      const chunk = new Uint8Array(fileData, position, length);\n",
              "      position += length;\n",
              "\n",
              "      const base64 = btoa(String.fromCharCode.apply(null, chunk));\n",
              "      yield {\n",
              "        response: {\n",
              "          action: 'append',\n",
              "          file: file.name,\n",
              "          data: base64,\n",
              "        },\n",
              "      };\n",
              "\n",
              "      let percentDone = fileData.byteLength === 0 ?\n",
              "          100 :\n",
              "          Math.round((position / fileData.byteLength) * 100);\n",
              "      percent.textContent = `${percentDone}% done`;\n",
              "\n",
              "    } while (position < fileData.byteLength);\n",
              "  }\n",
              "\n",
              "  // All done.\n",
              "  yield {\n",
              "    response: {\n",
              "      action: 'complete',\n",
              "    }\n",
              "  };\n",
              "}\n",
              "\n",
              "scope.google = scope.google || {};\n",
              "scope.google.colab = scope.google.colab || {};\n",
              "scope.google.colab._files = {\n",
              "  _uploadFiles,\n",
              "  _uploadFilesContinue,\n",
              "};\n",
              "})(self);\n",
              "</script> "
            ]
          },
          "metadata": {}
        },
        {
          "output_type": "stream",
          "name": "stdout",
          "text": [
            "Saving yellow_tripdata_2024-01.parquet to yellow_tripdata_2024-01.parquet\n",
            "Saving yellow_tripdata_2024-02.parquet to yellow_tripdata_2024-02.parquet\n",
            "Saving yellow_tripdata_2024-03.parquet to yellow_tripdata_2024-03.parquet\n",
            "Saving yellow_tripdata_2024-04.parquet to yellow_tripdata_2024-04.parquet\n",
            "Saving yellow_tripdata_2024-05.parquet to yellow_tripdata_2024-05.parquet\n",
            "Saving yellow_tripdata_2024-06.parquet to yellow_tripdata_2024-06.parquet\n"
          ]
        }
      ]
    },
    {
      "cell_type": "code",
      "source": [
        "# in the absence of an actual HDFS path, we use the local path\n",
        "# Initialize SparkSession\n",
        "\n",
        "spark= SparkSession \\\n",
        "       .builder \\\n",
        "       .appName(\"NYC Yellow Taxi Data\") \\\n",
        "       .getOrCreate()\n",
        "\n",
        "# Read CSV (taxi lookup)\n",
        "taxi_zones = spark.read.csv('/content/taxi_zone_lookup.csv', header=True, inferSchema=True)\n",
        "\n",
        "# Read Parquet (yellow trip data)\n",
        "tripdata1 = spark.read.parquet('/content/yellow_tripdata_2024-01.parquet', header=True, inferSchema=True)\n",
        "tripdata2 = spark.read.parquet('/content/yellow_tripdata_2024-02.parquet', header=True, inferSchema=True)\n",
        "tripdata3 = spark.read.parquet('/content/yellow_tripdata_2024-03.parquet', header=True, inferSchema=True)\n",
        "tripdata4 = spark.read.parquet('/content/yellow_tripdata_2024-04.parquet', header=True, inferSchema=True)\n",
        "tripdata5 = spark.read.parquet('/content/yellow_tripdata_2024-05.parquet', header=True, inferSchema=True)\n",
        "tripdata6 = spark.read.parquet('/content/yellow_tripdata_2024-06.parquet', header=True, inferSchema=True)"
      ],
      "metadata": {
        "id": "ctmoxkg_zLot"
      },
      "execution_count": 5,
      "outputs": []
    },
    {
      "cell_type": "code",
      "source": [
        "taxi_zones.describe().show()"
      ],
      "metadata": {
        "id": "HvINaDIVzYQB",
        "colab": {
          "base_uri": "https://localhost:8080/"
        },
        "outputId": "caaacea5-3ace-4378-8daf-afe92f2d09fc"
      },
      "execution_count": 6,
      "outputs": [
        {
          "output_type": "stream",
          "name": "stdout",
          "text": [
            "+-------+---------------+-------+--------------------+------------+\n",
            "|summary|     LocationID|Borough|                Zone|service_zone|\n",
            "+-------+---------------+-------+--------------------+------------+\n",
            "|  count|            265|    265|                 265|         265|\n",
            "|   mean|          133.0|   null|                null|        null|\n",
            "| stddev|76.643112323722|   null|                null|        null|\n",
            "|    min|              1|  Bronx|Allerton/Pelham G...|    Airports|\n",
            "|    max|            265|Unknown|      Yorkville West| Yellow Zone|\n",
            "+-------+---------------+-------+--------------------+------------+\n",
            "\n"
          ]
        }
      ]
    },
    {
      "cell_type": "code",
      "source": [
        "# how many boroughs exist\n",
        "taxi_zones.show(5)"
      ],
      "metadata": {
        "id": "mU5EW3_Uzg7N",
        "colab": {
          "base_uri": "https://localhost:8080/"
        },
        "outputId": "cbdb2ebf-3c29-45d4-a0d8-bbd56ea1a0de"
      },
      "execution_count": 7,
      "outputs": [
        {
          "output_type": "stream",
          "name": "stdout",
          "text": [
            "+----------+-------------+--------------------+------------+\n",
            "|LocationID|      Borough|                Zone|service_zone|\n",
            "+----------+-------------+--------------------+------------+\n",
            "|         1|          EWR|      Newark Airport|         EWR|\n",
            "|         2|       Queens|         Jamaica Bay|   Boro Zone|\n",
            "|         3|        Bronx|Allerton/Pelham G...|   Boro Zone|\n",
            "|         4|    Manhattan|       Alphabet City| Yellow Zone|\n",
            "|         5|Staten Island|       Arden Heights|   Boro Zone|\n",
            "+----------+-------------+--------------------+------------+\n",
            "only showing top 5 rows\n",
            "\n"
          ]
        }
      ]
    },
    {
      "cell_type": "code",
      "source": [
        "# how many zones does each Borough have\n",
        "taxi_zones.groupBy(\"Borough\").count().orderBy(\"count\", ascending=False).show()"
      ],
      "metadata": {
        "id": "L4qz_CxUzquD",
        "colab": {
          "base_uri": "https://localhost:8080/"
        },
        "outputId": "904f15c7-bf6a-49a6-ef48-f908928406c6"
      },
      "execution_count": 8,
      "outputs": [
        {
          "output_type": "stream",
          "name": "stdout",
          "text": [
            "+-------------+-----+\n",
            "|      Borough|count|\n",
            "+-------------+-----+\n",
            "|       Queens|   69|\n",
            "|    Manhattan|   69|\n",
            "|     Brooklyn|   61|\n",
            "|        Bronx|   43|\n",
            "|Staten Island|   20|\n",
            "|          EWR|    1|\n",
            "|      Unknown|    1|\n",
            "|          N/A|    1|\n",
            "+-------------+-----+\n",
            "\n"
          ]
        }
      ]
    },
    {
      "cell_type": "code",
      "source": [
        "# merge the 6 monthly tripdata files uploaded into one file\n",
        "\n",
        "tripdata = tripdata1.union(tripdata2).union(tripdata3).union(tripdata4).union(tripdata5).union(tripdata6)\n",
        "tripdata.count()"
      ],
      "metadata": {
        "id": "q_bBoI3qz7WK",
        "colab": {
          "base_uri": "https://localhost:8080/"
        },
        "outputId": "f2089246-4875-4053-fc58-5e41e96dab4b"
      },
      "execution_count": 9,
      "outputs": [
        {
          "output_type": "execute_result",
          "data": {
            "text/plain": [
              "20332093"
            ]
          },
          "metadata": {},
          "execution_count": 9
        }
      ]
    },
    {
      "cell_type": "code",
      "source": [
        "# check the merged data\n",
        "tripdata.printSchema()"
      ],
      "metadata": {
        "id": "hUm-Mfxs0w3O",
        "colab": {
          "base_uri": "https://localhost:8080/"
        },
        "outputId": "f44dab94-2761-446b-9738-30cddbce43d8"
      },
      "execution_count": 10,
      "outputs": [
        {
          "output_type": "stream",
          "name": "stdout",
          "text": [
            "root\n",
            " |-- VendorID: integer (nullable = true)\n",
            " |-- tpep_pickup_datetime: timestamp_ntz (nullable = true)\n",
            " |-- tpep_dropoff_datetime: timestamp_ntz (nullable = true)\n",
            " |-- passenger_count: long (nullable = true)\n",
            " |-- trip_distance: double (nullable = true)\n",
            " |-- RatecodeID: long (nullable = true)\n",
            " |-- store_and_fwd_flag: string (nullable = true)\n",
            " |-- PULocationID: integer (nullable = true)\n",
            " |-- DOLocationID: integer (nullable = true)\n",
            " |-- payment_type: long (nullable = true)\n",
            " |-- fare_amount: double (nullable = true)\n",
            " |-- extra: double (nullable = true)\n",
            " |-- mta_tax: double (nullable = true)\n",
            " |-- tip_amount: double (nullable = true)\n",
            " |-- tolls_amount: double (nullable = true)\n",
            " |-- improvement_surcharge: double (nullable = true)\n",
            " |-- total_amount: double (nullable = true)\n",
            " |-- congestion_surcharge: double (nullable = true)\n",
            " |-- Airport_fee: double (nullable = true)\n",
            "\n"
          ]
        }
      ]
    },
    {
      "cell_type": "code",
      "source": [
        "from pyspark.sql.functions import col, sum\n",
        "\n",
        "# Count the missing/nulls entries per column\n",
        "tripdata.select([sum(col(c).isNull().cast(\"int\")).alias(c) for c in tripdata.columns]).show()"
      ],
      "metadata": {
        "id": "wNMOo23n02RD",
        "colab": {
          "base_uri": "https://localhost:8080/"
        },
        "outputId": "b4386a73-408b-4371-b3e1-d8fa4c583c73"
      },
      "execution_count": 11,
      "outputs": [
        {
          "output_type": "stream",
          "name": "stdout",
          "text": [
            "+--------+--------------------+---------------------+---------------+-------------+----------+------------------+------------+------------+------------+-----------+-----+-------+----------+------------+---------------------+------------+--------------------+-----------+\n",
            "|VendorID|tpep_pickup_datetime|tpep_dropoff_datetime|passenger_count|trip_distance|RatecodeID|store_and_fwd_flag|PULocationID|DOLocationID|payment_type|fare_amount|extra|mta_tax|tip_amount|tolls_amount|improvement_surcharge|total_amount|congestion_surcharge|Airport_fee|\n",
            "+--------+--------------------+---------------------+---------------+-------------+----------+------------------+------------+------------+------------+-----------+-----+-------+----------+------------+---------------------+------------+--------------------+-----------+\n",
            "|       0|                   0|                    0|        1975985|            0|   1975985|           1975985|           0|           0|           0|          0|    0|      0|         0|           0|                    0|           0|             1975985|    1975985|\n",
            "+--------+--------------------+---------------------+---------------+-------------+----------+------------------+------------+------------+------------+-----------+-----+-------+----------+------------+---------------------+------------+--------------------+-----------+\n",
            "\n"
          ]
        }
      ]
    },
    {
      "cell_type": "code",
      "source": [
        "# to inspect these columns with missing values\n",
        "tripdata.filter(col(\"passenger_count\").isNull()).show(10)"
      ],
      "metadata": {
        "id": "7SwVewC908Me",
        "colab": {
          "base_uri": "https://localhost:8080/"
        },
        "outputId": "ee63f811-4ef4-4462-975d-daa6c9a922aa"
      },
      "execution_count": 12,
      "outputs": [
        {
          "output_type": "stream",
          "name": "stdout",
          "text": [
            "+--------+--------------------+---------------------+---------------+-------------+----------+------------------+------------+------------+------------+-----------+-----+-------+----------+------------+---------------------+------------+--------------------+-----------+\n",
            "|VendorID|tpep_pickup_datetime|tpep_dropoff_datetime|passenger_count|trip_distance|RatecodeID|store_and_fwd_flag|PULocationID|DOLocationID|payment_type|fare_amount|extra|mta_tax|tip_amount|tolls_amount|improvement_surcharge|total_amount|congestion_surcharge|Airport_fee|\n",
            "+--------+--------------------+---------------------+---------------+-------------+----------+------------------+------------+------------+------------+-----------+-----+-------+----------+------------+---------------------+------------+--------------------+-----------+\n",
            "|       2| 2024-01-01 00:34:19|  2024-01-01 00:51:22|           null|         2.04|      null|              null|         143|         141|           0|      12.72|  0.0|    0.5|       0.0|         0.0|                  1.0|       16.72|                null|       null|\n",
            "|       1| 2024-01-01 00:14:31|  2024-01-01 00:19:29|           null|          1.6|      null|              null|         236|         238|           0|        9.3|  1.0|    0.5|      2.86|         0.0|                  1.0|       17.16|                null|       null|\n",
            "|       1| 2024-01-01 00:35:11|  2024-01-01 01:13:40|           null|          0.0|      null|              null|         142|          79|           0|      21.01|  0.0|    0.5|       0.0|         0.0|                  1.0|       25.01|                null|       null|\n",
            "|       1| 2024-01-01 00:33:37|  2024-01-01 00:50:34|           null|          0.0|      null|              null|         237|           4|           0|      17.79|  0.0|    0.5|       0.0|         0.0|                  1.0|       21.79|                null|       null|\n",
            "|       1| 2024-01-01 00:49:04|  2024-01-01 01:01:16|           null|          0.0|      null|              null|         244|          50|           0|      34.65|  0.0|    0.5|       0.0|         0.0|                  1.0|       38.65|                null|       null|\n",
            "|       2| 2024-01-01 00:47:00|  2024-01-01 01:11:05|           null|         4.58|      null|              null|         202|          83|           0|      28.14|  0.0|    0.5|       0.0|         0.0|                  1.0|       29.64|                null|       null|\n",
            "|       2| 2024-01-01 00:48:10|  2024-01-01 01:00:24|           null|         1.47|      null|              null|         224|         144|           0|      12.82|  0.0|    0.5|       0.0|         0.0|                  1.0|       16.82|                null|       null|\n",
            "|       1| 2024-01-01 00:53:57|  2024-01-01 01:09:58|           null|          1.7|      null|              null|          79|         249|           0|      10.16|  0.0|    0.5|       0.0|         0.0|                  1.0|       11.66|                null|       null|\n",
            "|       2| 2024-01-01 00:55:27|  2024-01-01 01:38:45|           null|          4.8|      null|              null|         158|         239|           0|      33.12|  0.0|    0.5|      7.42|         0.0|                  1.0|       44.54|                null|       null|\n",
            "|       2| 2024-01-01 00:36:00|  2024-01-01 00:43:00|           null|         1.27|      null|              null|         211|          90|           0|      11.74|  0.0|    0.5|      3.15|         0.0|                  1.0|       18.89|                null|       null|\n",
            "+--------+--------------------+---------------------+---------------+-------------+----------+------------------+------------+------------+------------+-----------+-----+-------+----------+------------+---------------------+------------+--------------------+-----------+\n",
            "only showing top 10 rows\n",
            "\n"
          ]
        }
      ]
    },
    {
      "cell_type": "code",
      "source": [
        "# for the purpose of our problem statement, we will discard irrelevant columns like ratecodeID and store...columns\n",
        "# then for relevant columns that are null, we will replace them with their column average\n",
        "\n",
        "tripdatav1 = tripdata.drop(\"RatecodeID\", \"store_and_fwd_flag\")\n",
        "\n",
        "from pyspark.sql.functions import avg\n",
        "averages = tripdatav1.select(\n",
        "    avg(\"passenger_count\").alias(\"pass_count_avg\"),\n",
        "    avg(\"congestion_surcharge\").alias(\"conges_sur_avg\"),\n",
        "    avg(\"airport_fee\").alias(\"airp_fee_avg\")\n",
        ").collect()[0]\n",
        "\n",
        "avg_passenger = averages[\"pass_count_avg\"]\n",
        "avg_congestion = averages[\"conges_sur_avg\"]\n",
        "avg_airport = averages[\"airp_fee_avg\"]\n",
        "\n",
        "# then fill the null values now that we have each column average\n",
        "tripdatav2 = tripdatav1.fillna({\n",
        "    \"passenger_count\": avg_passenger,\n",
        "    \"congestion_surcharge\": avg_congestion,\n",
        "    \"airport_fee\": avg_airport})"
      ],
      "metadata": {
        "id": "vxVm-yI10-Kg"
      },
      "execution_count": 13,
      "outputs": []
    },
    {
      "cell_type": "code",
      "source": [
        "# then we recheck again, for any missing values across the entire dataset\n",
        "\n",
        "tripdatav2.select([sum(col(c).isNull().cast(\"int\")).alias(c) for c in tripdatav2.columns]).show()"
      ],
      "metadata": {
        "id": "kxMMrvhE1fZ7",
        "colab": {
          "base_uri": "https://localhost:8080/"
        },
        "outputId": "073a9bd1-e2de-4fc4-8d74-be12c686fc98"
      },
      "execution_count": 14,
      "outputs": [
        {
          "output_type": "stream",
          "name": "stdout",
          "text": [
            "+--------+--------------------+---------------------+---------------+-------------+------------+------------+------------+-----------+-----+-------+----------+------------+---------------------+------------+--------------------+-----------+\n",
            "|VendorID|tpep_pickup_datetime|tpep_dropoff_datetime|passenger_count|trip_distance|PULocationID|DOLocationID|payment_type|fare_amount|extra|mta_tax|tip_amount|tolls_amount|improvement_surcharge|total_amount|congestion_surcharge|Airport_fee|\n",
            "+--------+--------------------+---------------------+---------------+-------------+------------+------------+------------+-----------+-----+-------+----------+------------+---------------------+------------+--------------------+-----------+\n",
            "|       0|                   0|                    0|              0|            0|           0|           0|           0|          0|    0|      0|         0|           0|                    0|           0|                   0|          0|\n",
            "+--------+--------------------+---------------------+---------------+-------------+------------+------------+------------+-----------+-----+-------+----------+------------+---------------------+------------+--------------------+-----------+\n",
            "\n"
          ]
        }
      ]
    },
    {
      "cell_type": "code",
      "source": [
        "# the cleaned dataset\n",
        "tripdatav2.show(10)"
      ],
      "metadata": {
        "id": "Vcz1z80y1kX6",
        "colab": {
          "base_uri": "https://localhost:8080/"
        },
        "outputId": "ca1fa0a2-0aab-4201-ef69-c5bc75ea60e5"
      },
      "execution_count": 15,
      "outputs": [
        {
          "output_type": "stream",
          "name": "stdout",
          "text": [
            "+--------+--------------------+---------------------+---------------+-------------+------------+------------+------------+-----------+-----+-------+----------+------------+---------------------+------------+--------------------+-----------+\n",
            "|VendorID|tpep_pickup_datetime|tpep_dropoff_datetime|passenger_count|trip_distance|PULocationID|DOLocationID|payment_type|fare_amount|extra|mta_tax|tip_amount|tolls_amount|improvement_surcharge|total_amount|congestion_surcharge|Airport_fee|\n",
            "+--------+--------------------+---------------------+---------------+-------------+------------+------------+------------+-----------+-----+-------+----------+------------+---------------------+------------+--------------------+-----------+\n",
            "|       2| 2024-01-01 00:57:55|  2024-01-01 01:17:43|              1|         1.72|         186|          79|           2|       17.7|  1.0|    0.5|       0.0|         0.0|                  1.0|        22.7|                 2.5|        0.0|\n",
            "|       1| 2024-01-01 00:03:00|  2024-01-01 00:09:36|              1|          1.8|         140|         236|           1|       10.0|  3.5|    0.5|      3.75|         0.0|                  1.0|       18.75|                 2.5|        0.0|\n",
            "|       1| 2024-01-01 00:17:06|  2024-01-01 00:35:01|              1|          4.7|         236|          79|           1|       23.3|  3.5|    0.5|       3.0|         0.0|                  1.0|        31.3|                 2.5|        0.0|\n",
            "|       1| 2024-01-01 00:36:38|  2024-01-01 00:44:56|              1|          1.4|          79|         211|           1|       10.0|  3.5|    0.5|       2.0|         0.0|                  1.0|        17.0|                 2.5|        0.0|\n",
            "|       1| 2024-01-01 00:46:51|  2024-01-01 00:52:57|              1|          0.8|         211|         148|           1|        7.9|  3.5|    0.5|       3.2|         0.0|                  1.0|        16.1|                 2.5|        0.0|\n",
            "|       1| 2024-01-01 00:54:08|  2024-01-01 01:26:31|              1|          4.7|         148|         141|           1|       29.6|  3.5|    0.5|       6.9|         0.0|                  1.0|        41.5|                 2.5|        0.0|\n",
            "|       2| 2024-01-01 00:49:44|  2024-01-01 01:15:47|              2|        10.82|         138|         181|           1|       45.7|  6.0|    0.5|      10.0|         0.0|                  1.0|       64.95|                 0.0|       1.75|\n",
            "|       1| 2024-01-01 00:30:40|  2024-01-01 00:58:40|              0|          3.0|         246|         231|           2|       25.4|  3.5|    0.5|       0.0|         0.0|                  1.0|        30.4|                 2.5|        0.0|\n",
            "|       2| 2024-01-01 00:26:01|  2024-01-01 00:54:12|              1|         5.44|         161|         261|           2|       31.0|  1.0|    0.5|       0.0|         0.0|                  1.0|        36.0|                 2.5|        0.0|\n",
            "|       2| 2024-01-01 00:28:08|  2024-01-01 00:29:16|              1|         0.04|         113|         113|           2|        3.0|  1.0|    0.5|       0.0|         0.0|                  1.0|         8.0|                 2.5|        0.0|\n",
            "+--------+--------------------+---------------------+---------------+-------------+------------+------------+------------+-----------+-----+-------+----------+------------+---------------------+------------+--------------------+-----------+\n",
            "only showing top 10 rows\n",
            "\n"
          ]
        }
      ]
    },
    {
      "cell_type": "code",
      "source": [
        "tripdatav2.describe().show()"
      ],
      "metadata": {
        "id": "XLVhooHU1owX",
        "colab": {
          "base_uri": "https://localhost:8080/"
        },
        "outputId": "8f2036f5-8142-43a8-f2d6-2fa2618820b1"
      },
      "execution_count": 16,
      "outputs": [
        {
          "output_type": "stream",
          "name": "stdout",
          "text": [
            "+-------+------------------+------------------+------------------+------------------+-----------------+------------------+-----------------+------------------+-------------------+-----------------+------------------+---------------------+-----------------+--------------------+------------------+\n",
            "|summary|          VendorID|   passenger_count|     trip_distance|      PULocationID|     DOLocationID|      payment_type|      fare_amount|             extra|            mta_tax|       tip_amount|      tolls_amount|improvement_surcharge|     total_amount|congestion_surcharge|       Airport_fee|\n",
            "+-------+------------------+------------------+------------------+------------------+-----------------+------------------+-----------------+------------------+-------------------+-----------------+------------------+---------------------+-----------------+--------------------+------------------+\n",
            "|  count|          20332093|          20332093|          20332093|          20332093|         20332093|          20332093|         20332093|          20332093|           20332093|         20332093|          20332093|             20332093|         20332093|            20332093|          20332093|\n",
            "|   mean|1.7581616904860704|1.3005440217099145|4.7048653908871305|164.79722781122436|163.8970699179863|1.1021571168300284|18.88714579704253|1.4086683023730016| 0.4824372616237787|3.270078457244743|0.5468174004512386|    0.970787380325284|27.43594805761403|  2.2496961104149915|0.1434392573851331|\n",
            "| stddev|0.4296279396312775|0.7952341742484724|359.24962020333726| 64.34706426158873|69.54032432267732|0.6315718824583528|77.28530239372293|1.8195526695879762|0.12130807766987457|4.008414880752177| 2.214600238165172|  0.23155714641672995| 78.5513477438845|  0.7985718822311297|0.4687261389532854|\n",
            "|    min|                 1|                 0|               0.0|                 1|                1|                 0|          -1285.4|              -7.5|               -0.5|           -300.0|           -117.26|                 -1.0|         -1315.97|                -2.5|             -1.75|\n",
            "|    max|                 6|                 9|          312722.3|               265|              265|                 5|        334076.32|             65.99|              35.84|           999.99|           1702.88|                  1.0|         334145.3|                2.52|              1.75|\n",
            "+-------+------------------+------------------+------------------+------------------+-----------------+------------------+-----------------+------------------+-------------------+-----------------+------------------+---------------------+-----------------+--------------------+------------------+\n",
            "\n"
          ]
        }
      ]
    },
    {
      "cell_type": "code",
      "source": [
        "# distribution of trip distance\n",
        "\n",
        "import matplotlib.pyplot as plt\n",
        "\n",
        "trip_dist = tripdatav2.select(\"trip_distance\").sample(False, 0.0001).toPandas() # a 0.01% representation was used to also visualize outliers\n",
        "plt.hist(trip_dist[\"trip_distance\"], bins=50, edgecolor='black')\n",
        "plt.title(\"Trip Distance Distribution\")\n",
        "plt.xlabel(\"Distance in miles\")\n",
        "plt.ylabel(\"Frequency\")\n",
        "plt.show()"
      ],
      "metadata": {
        "id": "LQjv3pF81sk4",
        "colab": {
          "base_uri": "https://localhost:8080/",
          "height": 472
        },
        "outputId": "177eb330-cfe2-452d-90b0-5f707e0736c7"
      },
      "execution_count": 17,
      "outputs": [
        {
          "output_type": "display_data",
          "data": {
            "text/plain": [
              "<Figure size 640x480 with 1 Axes>"
            ],
            "image/png": "[encoded data removed]"
          },
          "metadata": {}
        }
      ]
    },
    {
      "cell_type": "code",
      "source": [
        "# Create a scatter plot for the tax revenues\n",
        "\n",
        "import seaborn as sns\n",
        "\n",
        "yt_tax = tripdatav2.select(\"mta_tax\", \"improvement_surcharge\", \"congestion_surcharge\", \"airport_fee\") \\\n",
        "              .dropna() \\\n",
        "              .sample(False, 0.01) \\\n",
        "              .toPandas()\n",
        "\n",
        "sns.pairplot(yt_tax)\n",
        "\n",
        "plt.suptitle(\"Scatter Plots of NYC Yellow Taxi Tax\", y=1.02)\n",
        "plt.show()"
      ],
      "metadata": {
        "id": "2oAgwcgd1yju",
        "colab": {
          "base_uri": "https://localhost:8080/",
          "height": 1000
        },
        "outputId": "6105f47e-0931-4b21-d464-69dde4c682df"
      },
      "execution_count": 18,
      "outputs": [
        {
          "output_type": "display_data",
          "data": {
            "text/plain": [
              "<Figure size 1000x1000 with 20 Axes>"
            ],
            "image/png": "[encoded data removed]"
          },
          "metadata": {}
        }
      ]
    },
    {
      "cell_type": "code",
      "source": [
        "# to review the trip duration column and its distribution\n",
        "\n",
        "from pyspark.sql.functions import unix_timestamp, col\n",
        "\n",
        "# Calculate duration in minutes\n",
        "tripdatav3 = tripdatav2.withColumn(\"trip_duration\",(unix_timestamp(\"tpep_dropoff_datetime\") - unix_timestamp(\"tpep_pickup_datetime\")) / 60)\n",
        "# review the new column\n",
        "tripdatav3.select(\"trip_duration\").describe().show()"
      ],
      "metadata": {
        "id": "b0bqwMOB13t9",
        "colab": {
          "base_uri": "https://localhost:8080/"
        },
        "outputId": "9d6312d7-18f4-43c9-b1a0-797993080b03"
      },
      "execution_count": 19,
      "outputs": [
        {
          "output_type": "stream",
          "name": "stdout",
          "text": [
            "+-------+------------------+\n",
            "|summary|     trip_duration|\n",
            "+-------+------------------+\n",
            "|  count|          20332093|\n",
            "|   mean| 16.88492421890193|\n",
            "| stddev| 34.56621359415994|\n",
            "|    min|-52.06666666666667|\n",
            "|    max| 9767.516666666666|\n",
            "+-------+------------------+\n",
            "\n"
          ]
        }
      ]
    },
    {
      "cell_type": "code",
      "source": [
        "# visualize the trip duration column\n",
        "\n",
        "# Sample for plotting\n",
        "trip_durations = tripdatav3.select(\"trip_duration\").sample(False, 0.1).toPandas()\n",
        "\n",
        "# Plot histogram\n",
        "plt.hist(trip_durations[\"trip_duration\"], bins=500)\n",
        "plt.title(\"Distribution of Trip Duration (in Minutes)\")\n",
        "plt.xlabel(\"Duration (minutes)\")\n",
        "plt.ylabel(\"Number of Trips\")\n",
        "plt.xlim(0, 100)\n",
        "plt.show()"
      ],
      "metadata": {
        "id": "SJN4n2fn1_dS",
        "colab": {
          "base_uri": "https://localhost:8080/",
          "height": 472
        },
        "outputId": "ac1a18a0-5111-405c-e4e2-2c4a851dad77"
      },
      "execution_count": 20,
      "outputs": [
        {
          "output_type": "display_data",
          "data": {
            "text/plain": [
              "<Figure size 640x480 with 1 Axes>"
            ],
            "image/png": "[encoded data removed]"
          },
          "metadata": {}
        }
      ]
    },
    {
      "cell_type": "code",
      "source": [
        "# match and update the dataset with the taxi_zone dataset\n",
        "\n",
        "# identify each matching columns across both taxi_zone and yellow_taxi dataset above\n",
        "PULocationID = tripdatav2['PULocationID']\n",
        "DOLocationID = tripdatav2['DOLocationID']\n",
        "LocationID = taxi_zones['LocationID']\n",
        "Borough = taxi_zones['Borough']\n",
        "Zone = taxi_zones['Zone']\n",
        "service_zone = taxi_zones['service_zone']"
      ],
      "metadata": {
        "id": "YMscd60O2FCD"
      },
      "execution_count": 21,
      "outputs": []
    },
    {
      "cell_type": "code",
      "source": [
        "# match taxi zone columns to PU(pickup) column and rename the new taxi_zones columns\n",
        "tripdatav2_1 = tripdatav2.join(taxi_zones, tripdatav2['PULocationID']== taxi_zones['LocationID'], how='left').withColumnRenamed('Borough', 'PUBorough').withColumnRenamed('Zone', 'PUZone').withColumnRenamed('service_zone', 'PUService_zone')\n",
        "# take out Location ID from taxi_zones after matching, as is no more needed\n",
        "tripdatav2_1 = tripdatav2_1.drop('LocationID')"
      ],
      "metadata": {
        "id": "aLdW_eaB2MAM"
      },
      "execution_count": 22,
      "outputs": []
    },
    {
      "cell_type": "code",
      "source": [
        "# match taxi zone columns to DO(dropoff) column with the updated DF above and also rename the new taxi_zones columns\n",
        "tripdatav2_2 = tripdatav2_1.join(taxi_zones, tripdatav2['DOLocationID']== taxi_zones['LocationID'], how='left').withColumnRenamed('Borough', 'DOBorough').withColumnRenamed('Zone', 'DOZone').withColumnRenamed('service_zone', 'DOService_zone')\n",
        "# also take out Location ID from taxi_zones after matching, as is no more needed\n",
        "tripdatav2_2 = tripdatav2_2.drop('LocationID')"
      ],
      "metadata": {
        "id": "yPPV5gk_2RV1"
      },
      "execution_count": 23,
      "outputs": []
    },
    {
      "cell_type": "code",
      "source": [
        "# now I want to merge the 2 DFs, rearrange the columns closer to the PU & DO codes\n",
        "columns = tripdatav2_2.columns\n",
        "\n",
        "col_num = [0, 1, 2, 3, 4, 5, 17, 18, 19, 6, 20, 21, 22, 7, 8, 9, 10, 11, 12, 13, 14, 15, 16]\n",
        "rearr_columns = [columns[i] for i in col_num]\n",
        "\n",
        "tripdatav4 = tripdatav2_2.select(rearr_columns)"
      ],
      "metadata": {
        "id": "8KV9TuDg2Ynv"
      },
      "execution_count": 24,
      "outputs": []
    },
    {
      "cell_type": "code",
      "source": [
        "# the updated dataframe, and we will transform the dataset by adjusting the outliers on a case by case problem statements\n",
        "tripdatav4.show(5)"
      ],
      "metadata": {
        "id": "IjsXNUsz2dYp",
        "colab": {
          "base_uri": "https://localhost:8080/"
        },
        "outputId": "e6cee172-9bdd-4109-d083-0886da16bfa9"
      },
      "execution_count": 25,
      "outputs": [
        {
          "output_type": "stream",
          "name": "stdout",
          "text": [
            "+--------+--------------------+---------------------+---------------+-------------+------------+---------+--------------------+--------------+------------+---------+--------------------+--------------+------------+-----------+-----+-------+----------+------------+---------------------+------------+--------------------+-----------+\n",
            "|VendorID|tpep_pickup_datetime|tpep_dropoff_datetime|passenger_count|trip_distance|PULocationID|PUBorough|              PUZone|PUService_zone|DOLocationID|DOBorough|              DOZone|DOService_zone|payment_type|fare_amount|extra|mta_tax|tip_amount|tolls_amount|improvement_surcharge|total_amount|congestion_surcharge|Airport_fee|\n",
            "+--------+--------------------+---------------------+---------------+-------------+------------+---------+--------------------+--------------+------------+---------+--------------------+--------------+------------+-----------+-----+-------+----------+------------+---------------------+------------+--------------------+-----------+\n",
            "|       2| 2024-01-01 00:57:55|  2024-01-01 01:17:43|              1|         1.72|         186|Manhattan|Penn Station/Madi...|   Yellow Zone|          79|Manhattan|        East Village|   Yellow Zone|           2|       17.7|  1.0|    0.5|       0.0|         0.0|                  1.0|        22.7|                 2.5|        0.0|\n",
            "|       1| 2024-01-01 00:03:00|  2024-01-01 00:09:36|              1|          1.8|         140|Manhattan|     Lenox Hill East|   Yellow Zone|         236|Manhattan|Upper East Side N...|   Yellow Zone|           1|       10.0|  3.5|    0.5|      3.75|         0.0|                  1.0|       18.75|                 2.5|        0.0|\n",
            "|       1| 2024-01-01 00:17:06|  2024-01-01 00:35:01|              1|          4.7|         236|Manhattan|Upper East Side N...|   Yellow Zone|          79|Manhattan|        East Village|   Yellow Zone|           1|       23.3|  3.5|    0.5|       3.0|         0.0|                  1.0|        31.3|                 2.5|        0.0|\n",
            "|       1| 2024-01-01 00:36:38|  2024-01-01 00:44:56|              1|          1.4|          79|Manhattan|        East Village|   Yellow Zone|         211|Manhattan|                SoHo|   Yellow Zone|           1|       10.0|  3.5|    0.5|       2.0|         0.0|                  1.0|        17.0|                 2.5|        0.0|\n",
            "|       1| 2024-01-01 00:46:51|  2024-01-01 00:52:57|              1|          0.8|         211|Manhattan|                SoHo|   Yellow Zone|         148|Manhattan|     Lower East Side|   Yellow Zone|           1|        7.9|  3.5|    0.5|       3.2|         0.0|                  1.0|        16.1|                 2.5|        0.0|\n",
            "+--------+--------------------+---------------------+---------------+-------------+------------+---------+--------------------+--------------+------------+---------+--------------------+--------------+------------+-----------+-----+-------+----------+------------+---------------------+------------+--------------------+-----------+\n",
            "only showing top 5 rows\n",
            "\n"
          ]
        }
      ]
    },
    {
      "cell_type": "code",
      "source": [
        "\"\"\"\n",
        "Data analysis Objective 1 - To analyze the top-10 pick-up locations(PUZone column) with the highest total fare amount(total_amount column)\n",
        "------------------------------------------------------------------------------------------------------------------------------------------\n",
        "\"\"\""
      ],
      "metadata": {
        "id": "Xgi445fT2iZR",
        "colab": {
          "base_uri": "https://localhost:8080/",
          "height": 53
        },
        "outputId": "aa865c38-8c73-410a-e4a8-9636f755ddf2"
      },
      "execution_count": 26,
      "outputs": [
        {
          "output_type": "execute_result",
          "data": {
            "text/plain": [
              "'\\nData analysis Objective 1 - To analyze the top-10 pick-up locations(PUZone column) with the highest total fare amount(total_amount column)\\n------------------------------------------------------------------------------------------------------------------------------------------\\n'"
            ],
            "application/vnd.google.colaboratory.intrinsic+json": {
              "type": "string"
            }
          },
          "metadata": {},
          "execution_count": 26
        }
      ]
    },
    {
      "cell_type": "code",
      "source": [
        "# to show if any outliers for total_amount is a -ve value\n",
        "neg_tot_amt = tripdatav4.filter(col(\"total_amount\") < 5).count()\n",
        "print(f\"Number of trips with total_amount < $5: {neg_tot_amt}\")"
      ],
      "metadata": {
        "id": "-WPfN3CI2pE0",
        "colab": {
          "base_uri": "https://localhost:8080/"
        },
        "outputId": "12f4dc54-6935-4efd-d707-3d30b102d1ff"
      },
      "execution_count": 27,
      "outputs": [
        {
          "output_type": "stream",
          "name": "stdout",
          "text": [
            "Number of trips with total_amount < $5: 361104\n"
          ]
        }
      ]
    },
    {
      "cell_type": "code",
      "source": [
        "# to further show any outliers for total_amount that is too high, a benchmark of $200 was used\n",
        "high_tot_amt = tripdatav4.filter(col(\"total_amount\") > 200).count()\n",
        "print(f\"Number of trips with total_amount > $200: {high_tot_amt}\")"
      ],
      "metadata": {
        "id": "zAPbjMo93G6T",
        "colab": {
          "base_uri": "https://localhost:8080/"
        },
        "outputId": "97e9a197-c5c4-426c-a173-0dba268cf534"
      },
      "execution_count": 28,
      "outputs": [
        {
          "output_type": "stream",
          "name": "stdout",
          "text": [
            "Number of trips with total_amount > $200: 13631\n"
          ]
        }
      ]
    },
    {
      "cell_type": "code",
      "source": [
        "# only keep total_amount > $5 and <=$200\n",
        "amt_tripdatav4 = tripdatav4.filter(\n",
        "    (col(\"total_amount\") > 5) & (col(\"total_amount\") <= 200))"
      ],
      "metadata": {
        "id": "Y4ty6sV63ScD"
      },
      "execution_count": 29,
      "outputs": []
    },
    {
      "cell_type": "code",
      "source": [
        "# We can now proceed to get top-10 PU zones with the highest/lowest total_amount\n",
        "\n",
        "from pyspark.sql.window import Window\n",
        "from pyspark.sql.functions import row_number, col\n",
        "\n",
        "PUtrip_hrank = Window.partitionBy(\"PUZone\").orderBy(col(\"total_amount\").desc())\n",
        "PUzone_h_rank = (amt_tripdatav4.withColumn(\"rank\", row_number().over(PUtrip_hrank)).filter(col(\"rank\") == 1).select(\"PUZone\", \"total_amount\").withColumnRenamed(\"PUZone\", \"HighPUZone\").withColumnRenamed(\"total_amount\", \"PUHighAmount\"))\n",
        "\n",
        "PUtrip_lrank  = Window.partitionBy(\"PUZone\").orderBy(col(\"total_amount\").asc())\n",
        "PUzone_l_rank = (amt_tripdatav4.withColumn(\"rank\", row_number().over(PUtrip_lrank)).filter(col(\"rank\") == 1).select(\"PUZone\", \"total_amount\").withColumnRenamed(\"PUZone\", \"LowPUZone\").withColumnRenamed(\"total_amount\", \"PULowAmount\"))\n",
        "\n",
        "\n",
        "high_rank = Window.orderBy(col(\"PUHighAmount\").desc())\n",
        "low_rank = Window.orderBy(col(\"PULowAmount\").asc())\n",
        "\n",
        "top_h = (PUzone_h_rank.withColumn(\"row_num\", row_number().over(high_rank)).filter(col(\"row_num\") <= 10))\n",
        "\n",
        "top_l = (PUzone_l_rank.withColumn(\"row_num\", row_number().over(low_rank)).filter(col(\"row_num\") <= 10))\n",
        "\n",
        "top_10 = (top_h.join(top_l, on=\"row_num\").select(\"HighPUZone\", \"PUHighAmount\", \"LowPUZone\", \"PULowAmount\"))\n",
        "\n",
        "# Show the result\n",
        "top_10.show()"
      ],
      "metadata": {
        "id": "1rpLRU6C3X7y",
        "colab": {
          "base_uri": "https://localhost:8080/"
        },
        "outputId": "a311ba27-1e8f-4fb6-f073-01c82a9dcc64"
      },
      "execution_count": 30,
      "outputs": [
        {
          "output_type": "stream",
          "name": "stdout",
          "text": [
            "+--------------------+------------+--------------------+-----------+\n",
            "|          HighPUZone|PUHighAmount|           LowPUZone|PULowAmount|\n",
            "+--------------------+------------+--------------------+-----------+\n",
            "|      Newark Airport|       200.0|        Clinton Hill|       5.01|\n",
            "|Upper East Side S...|       200.0| Crown Heights North|       5.01|\n",
            "|Upper East Side N...|       200.0|          Ocean Hill|       5.01|\n",
            "|     Jamaica Estates|       200.0|         Old Astoria|       5.01|\n",
            "|   LaGuardia Airport|       200.0|Stuy Town/Peter C...|       5.01|\n",
            "|       Richmond Hill|       200.0|TriBeCa/Civic Center|       5.01|\n",
            "|Washington Height...|       200.0|Upper West Side N...|       5.01|\n",
            "| Lincoln Square East|       200.0|     Lenox Hill East|       5.01|\n",
            "|       Midtown South|       200.0| UN/Turtle Bay South|       5.01|\n",
            "|                 N/A|       200.0|            Union Sq|       5.01|\n",
            "+--------------------+------------+--------------------+-----------+\n",
            "\n"
          ]
        }
      ]
    },
    {
      "cell_type": "code",
      "source": [
        "\"\"\"\n",
        "Data analysis Objective 2 - To analyze the top-10 Drop-off locations(DOZone column) with the highest total fare amount(total_amount column)\n",
        "-------------------------------------------------------------------------------------------------------------------------------------------\n",
        "\"\"\""
      ],
      "metadata": {
        "id": "72OzWjgb3kqf",
        "colab": {
          "base_uri": "https://localhost:8080/",
          "height": 53
        },
        "outputId": "a832372b-a7ba-48f1-dbc7-743b034c6db5"
      },
      "execution_count": 31,
      "outputs": [
        {
          "output_type": "execute_result",
          "data": {
            "text/plain": [
              "'\\nData analysis Objective 2 - To analyze the top-10 Drop-off locations(DOZone column) with the highest total fare amount(total_amount column)\\n-------------------------------------------------------------------------------------------------------------------------------------------\\n'"
            ],
            "application/vnd.google.colaboratory.intrinsic+json": {
              "type": "string"
            }
          },
          "metadata": {},
          "execution_count": 31
        }
      ]
    },
    {
      "cell_type": "code",
      "source": [
        "# We can now proceed to get top-10 Drop Off zones with the highest/lowest total_amount\n",
        "\n",
        "from pyspark.sql.window import Window\n",
        "from pyspark.sql.functions import row_number, col\n",
        "\n",
        "DOtrip_hrank = Window.partitionBy(\"DOZone\").orderBy(col(\"total_amount\").desc())\n",
        "DOzone_h_rank = (amt_tripdatav4.withColumn(\"rank\", row_number().over(DOtrip_hrank)).filter(col(\"rank\") == 1).select(\"DOZone\", \"total_amount\").withColumnRenamed(\"DOZone\", \"HighDOZone\").withColumnRenamed(\"total_amount\", \"DOHighAmount\"))\n",
        "\n",
        "DOtrip_lrank  = Window.partitionBy(\"DOZone\").orderBy(col(\"total_amount\").asc())\n",
        "DOzone_l_rank = (amt_tripdatav4.withColumn(\"rank\", row_number().over(PUtrip_lrank)).filter(col(\"rank\") == 1).select(\"DOZone\", \"total_amount\").withColumnRenamed(\"DOZone\", \"LowDOZone\").withColumnRenamed(\"total_amount\", \"DOLowAmount\"))\n",
        "\n",
        "\n",
        "D_high_rank = Window.orderBy(col(\"DOHighAmount\").desc())\n",
        "D_low_rank = Window.orderBy(col(\"DOLowAmount\").asc())\n",
        "\n",
        "D_top_h = (DOzone_h_rank.withColumn(\"row_num\", row_number().over(D_high_rank)).filter(col(\"row_num\") <= 10))\n",
        "\n",
        "D_top_l = (DOzone_l_rank.withColumn(\"row_num\", row_number().over(D_low_rank)).filter(col(\"row_num\") <= 10))\n",
        "\n",
        "D_top_10 = (D_top_h.join(D_top_l, on=\"row_num\").select(\"HighDOZone\", \"DOHighAmount\", \"LowDOZone\", \"DOLowAmount\"))\n",
        "\n",
        "# Show the result\n",
        "D_top_10.show()"
      ],
      "metadata": {
        "id": "7DE5WXUG34Ec",
        "colab": {
          "base_uri": "https://localhost:8080/"
        },
        "outputId": "dc59d1da-be70-4fd1-9d87-b25c1b8fdb7e"
      },
      "execution_count": 32,
      "outputs": [
        {
          "output_type": "stream",
          "name": "stdout",
          "text": [
            "+--------------------+------------+--------------------+-----------+\n",
            "|          HighDOZone|DOHighAmount|           LowDOZone|DOLowAmount|\n",
            "+--------------------+------------+--------------------+-----------+\n",
            "|      Newark Airport|       200.0|      Midtown Center|       5.01|\n",
            "|     Jamaica Estates|       200.0|              Corona|       5.01|\n",
            "|       Richmond Hill|       200.0|            Kips Bay|       5.01|\n",
            "|                 N/A|       200.0|Central Harlem North|       5.01|\n",
            "|West Chelsea/Huds...|       200.0|  World Trade Center|       5.01|\n",
            "|      Outside of NYC|       200.0|   East Harlem North|       5.01|\n",
            "|        Clinton East|      199.88|Washington Height...|       5.01|\n",
            "|             Gowanus|      199.87|             Seaport|       5.01|\n",
            "|Upper West Side N...|      199.85|Upper East Side N...|       5.01|\n",
            "|         JFK Airport|      199.84|Financial Distric...|       5.01|\n",
            "+--------------------+------------+--------------------+-----------+\n",
            "\n"
          ]
        }
      ]
    },
    {
      "cell_type": "code",
      "source": [
        "\"\"\"\n",
        "Data analysis Objective 3 - To analyze and rank if there are more during early drivetime(7-9am), lunchtime(12-2pm) and late drivetime(4pm-6pm)\n",
        "----------------------------------------------------------------------------------------------------------------------------------------------\n",
        "\"\"\""
      ],
      "metadata": {
        "id": "mCqZqoLZ4B-D",
        "colab": {
          "base_uri": "https://localhost:8080/",
          "height": 53
        },
        "outputId": "51268dce-1772-4184-eab7-4598061d22c4"
      },
      "execution_count": 33,
      "outputs": [
        {
          "output_type": "execute_result",
          "data": {
            "text/plain": [
              "'\\nData analysis Objective 3 - To analyze and rank if there are more during early drivetime(7-9am), lunchtime(12-2pm) and late drivetime(4pm-6pm)\\n----------------------------------------------------------------------------------------------------------------------------------------------\\n'"
            ],
            "application/vnd.google.colaboratory.intrinsic+json": {
              "type": "string"
            }
          },
          "metadata": {},
          "execution_count": 33
        }
      ]
    },
    {
      "cell_type": "code",
      "source": [
        "# we firstly invalidate and check for any trip where pickup happened before dropoff\n",
        "invalid_trip = amt_tripdatav4.filter(col(\"tpep_pickup_datetime\") > col(\"tpep_dropoff_datetime\")).count()\n",
        "print(f\"Number of trips where pickup time was earlier than dropoff time: {invalid_trip} rides\")"
      ],
      "metadata": {
        "id": "r1kulh3c4DX4",
        "colab": {
          "base_uri": "https://localhost:8080/"
        },
        "outputId": "4ccdb44f-87c0-44dd-8435-3ee983c9972e"
      },
      "execution_count": 34,
      "outputs": [
        {
          "output_type": "stream",
          "name": "stdout",
          "text": [
            "Number of trips where pickup time was earlier than dropoff time: 300 rides\n"
          ]
        }
      ]
    },
    {
      "cell_type": "code",
      "source": [
        "# next, are duration of rides are that are too short or too long, basetime of 1mins=too short and 150mins=for too long\n",
        "# Calculate duration in minutes using the updated DF\n",
        "time_tripdata = amt_tripdatav4.withColumn(\"trip_duration\",(unix_timestamp(\"tpep_dropoff_datetime\") - unix_timestamp(\"tpep_pickup_datetime\")) / 60)\n",
        "\n",
        "invalid_short = time_tripdata.filter(col(\"trip_duration\") < 1).count() # for too short ride duration\n",
        "print(f\"Number of trips where ride duration were too short: {invalid_short} rides\")\n",
        "\n",
        "invalid_long = time_tripdata.filter(col(\"trip_duration\") > 150).count() # for too short ride duration\n",
        "print(f\"Number of trips where ride duration were too long: {invalid_long} rides\")"
      ],
      "metadata": {
        "id": "vM-j4lt24HYN",
        "colab": {
          "base_uri": "https://localhost:8080/"
        },
        "outputId": "4186bdcd-54e0-4f13-e3c7-9a52c22e21d3"
      },
      "execution_count": 35,
      "outputs": [
        {
          "output_type": "stream",
          "name": "stdout",
          "text": [
            "Number of trips where ride duration were too short: 179081 rides\n",
            "Number of trips where ride duration were too long: 13849 rides\n"
          ]
        }
      ]
    },
    {
      "cell_type": "code",
      "source": [
        "# only trips that are between 1min and 150mins\n",
        "validtime_tripdata = time_tripdata.filter((col(\"tpep_pickup_datetime\") < col(\"tpep_dropoff_datetime\")) &\n",
        " (col(\"trip_duration\") >= 1) &\n",
        " (col(\"trip_duration\") <= 150))\n",
        "\n",
        "from pyspark.sql.functions import hour, col\n",
        "\n",
        "# Get the pickup hour\n",
        "pickup_hour = validtime_tripdata.withColumn(\"pickup_hour\", hour(col(\"tpep_pickup_datetime\")))\n",
        "\n",
        "# Get the dropoff hour\n",
        "dropoff_hour = validtime_tripdata.withColumn(\"dropoff_hour\", hour(col(\"tpep_dropoff_datetime\")))\n",
        "\n",
        "# Filter the time ranges\n",
        "early_drivetime = pickup_hour.filter((col(\"pickup_hour\") >= 7) & (col(\"pickup_hour\") < 9)).count() + dropoff_hour.filter((col(\"dropoff_hour\") >= 7) & (col(\"dropoff_hour\") < 9)).count()\n",
        "\n",
        "noon_drivetime = pickup_hour.filter((col(\"pickup_hour\") >= 12) & (col(\"pickup_hour\") < 14)).count() + dropoff_hour.filter((col(\"dropoff_hour\") >= 12) & (col(\"dropoff_hour\") < 14)).count()\n",
        "\n",
        "late_drivetime = pickup_hour.filter((col(\"pickup_hour\") >= 16) & (col(\"pickup_hour\") < 18)).count() + dropoff_hour.filter((col(\"dropoff_hour\") >= 16) & (col(\"dropoff_hour\") < 18)).count()\n",
        "\n",
        "# Display results\n",
        "print(\"Ride Counts by Time Range:\")\n",
        "print(f\"7–9 AM:   {early_drivetime} rides\")\n",
        "print(f\"12–2 PM:  {noon_drivetime} rides\")\n",
        "print(f\"4–6 PM:   {late_drivetime} rides\")\n"
      ],
      "metadata": {
        "id": "4pA43vJu4Nvc",
        "colab": {
          "base_uri": "https://localhost:8080/"
        },
        "outputId": "3a4eea24-271b-4ec8-bae9-1a966f487135"
      },
      "execution_count": 36,
      "outputs": [
        {
          "output_type": "stream",
          "name": "stdout",
          "text": [
            "Ride Counts by Time Range:\n",
            "7–9 AM:   2499582 rides\n",
            "12–2 PM:  4239195 rides\n",
            "4–6 PM:   5091983 rides\n"
          ]
        }
      ]
    },
    {
      "cell_type": "code",
      "source": [
        "\"\"\"\n",
        "Data analysis Objective 4 - To analyze and rank{focusing on only the top-5} pickup(PUzone) and dropoff(DOzone) with more rides per Borough\n",
        "------------------------------------------------------------------------------------------------------------------------------------------\n",
        "\"\"\""
      ],
      "metadata": {
        "id": "Qccl_njl4TfJ",
        "colab": {
          "base_uri": "https://localhost:8080/",
          "height": 53
        },
        "outputId": "d2b12fe3-da60-474d-c60d-73eb94b78bb3"
      },
      "execution_count": 37,
      "outputs": [
        {
          "output_type": "execute_result",
          "data": {
            "text/plain": [
              "'\\nData analysis Objective 4 - To analyze and rank{focusing on only the top-5} pickup(PUzone) and dropoff(DOzone) with more rides per Borough\\n------------------------------------------------------------------------------------------------------------------------------------------\\n'"
            ],
            "application/vnd.google.colaboratory.intrinsic+json": {
              "type": "string"
            }
          },
          "metadata": {},
          "execution_count": 37
        }
      ]
    },
    {
      "cell_type": "code",
      "source": [
        "# we identify the unique Borough from the taxi_zone dataset\n",
        "taxi_zones.select(\"Borough\").distinct().show()"
      ],
      "metadata": {
        "id": "4KO_Ci324YFK",
        "colab": {
          "base_uri": "https://localhost:8080/"
        },
        "outputId": "77f6acbf-c9d7-46c2-ebbe-07b602d722ad"
      },
      "execution_count": 38,
      "outputs": [
        {
          "output_type": "stream",
          "name": "stdout",
          "text": [
            "+-------------+\n",
            "|      Borough|\n",
            "+-------------+\n",
            "|       Queens|\n",
            "|          EWR|\n",
            "|      Unknown|\n",
            "|     Brooklyn|\n",
            "|Staten Island|\n",
            "|          N/A|\n",
            "|    Manhattan|\n",
            "|        Bronx|\n",
            "+-------------+\n",
            "\n"
          ]
        }
      ]
    },
    {
      "cell_type": "code",
      "source": [
        "# then identify the unknown and N/A Boroughs from PU/DO\n",
        "invalid_p_Borough = time_tripdata.filter((col(\"PUBorough\").isin(\"Unknown\", \"N/A\"))).count()\n",
        "print(f\"Number of pickup rides that has unknown and N/A Borough entries: {invalid_p_Borough} rides\")\n",
        "\n",
        "invalid_d_Borough = time_tripdata.filter((col(\"DOBorough\").isin(\"Unknown\", \"N/A\"))).count()\n",
        "print(f\"Number of dropoff rides that has unknown and N/A Borough entries: {invalid_d_Borough} rides\")"
      ],
      "metadata": {
        "id": "ve7se8VG4ewo",
        "colab": {
          "base_uri": "https://localhost:8080/"
        },
        "outputId": "b0f26723-dbfa-4e68-c351-fc48416aadac"
      },
      "execution_count": 39,
      "outputs": [
        {
          "output_type": "stream",
          "name": "stdout",
          "text": [
            "Number of pickup rides that has unknown and N/A Borough entries: 73134 rides\n",
            "Number of dropoff rides that has unknown and N/A Borough entries: 165479 rides\n"
          ]
        }
      ]
    },
    {
      "cell_type": "code",
      "source": [
        "# we proceed to use the dataset without \"unknown\" and \"NA\" entries for each PU(D0)Boroughs\n",
        "Borough_tripdata = validtime_tripdata.filter((~col('PUBorough').isin(\"Unknown\", \"N/A\")) & (~col('DOBorough').isin(\"Unknown\", \"N/A\")))"
      ],
      "metadata": {
        "id": "b1M9d6tV4kgP"
      },
      "execution_count": 40,
      "outputs": []
    },
    {
      "cell_type": "code",
      "source": [
        "from pyspark.sql.functions import count\n",
        "\n",
        "# Get the same Borough represented for each analysis\n",
        "PU_DO_b = Borough_tripdata.filter(col(\"PUBorough\") == col(\"DOBorough\"))\n",
        "\n",
        "# Then proceed to get the top zones per PU(DO) Borough\n",
        "def top_zones(df, borough_col, zone_col, alias_prefix):\n",
        "    zone_counts = df.groupBy(borough_col, zone_col).agg(count(\"*\").alias(f\"{alias_prefix}_rides\"))\n",
        "    window_spec = Window.partitionBy(borough_col).orderBy(col(f\"{alias_prefix}_rides\").desc())\n",
        "    return zone_counts.withColumn(\"rank\", row_number().over(window_spec)).filter(col(\"rank\") <= 5)\n",
        "\n",
        "# for the pick up zones\n",
        "top_pu = top_zones(PU_DO_b, \"PUBorough\", \"PUZone\", \"PU\").selectExpr(\"PUBorough\", \"PUZone\", \"PU_rides\", \"rank as pu_rank\")\n",
        "\n",
        "# for the drop off zones\n",
        "top_do = top_zones(PU_DO_b, \"DOBorough\", \"DOZone\", \"DO\").selectExpr(\"DOBorough\", \"DOZone\", \"DO_rides\", \"rank as do_rank\")\n",
        "\n",
        "# Align final putput side by side\n",
        "combined_z = top_pu.join(top_do,(top_pu.PUBorough == top_do.DOBorough) & (top_pu.pu_rank == top_do.do_rank),how=\"inner\").select(\n",
        "    top_pu.PUBorough,\n",
        "    top_pu.PUZone,\n",
        "    top_pu.PU_rides,\n",
        "    top_do.DOBorough,\n",
        "    top_do.DOZone,\n",
        "    top_do.DO_rides\n",
        ").filter(\n",
        "    col(\"PUBorough\").isin(\"Bronx\", \"Manhattan\", \"Brooklyn\", \"Queens\", \"Staten Island\")\n",
        ")\n",
        "\n",
        "\n",
        "combined_z.orderBy(\"PUBorough\", \"pu_rank\").show(25) # 5 zones x 5 Borough = 25"
      ],
      "metadata": {
        "id": "vh_gr-Bk4t3M",
        "colab": {
          "base_uri": "https://localhost:8080/"
        },
        "outputId": "5cec2509-7911-4515-c470-7b02febef702"
      },
      "execution_count": 41,
      "outputs": [
        {
          "output_type": "stream",
          "name": "stdout",
          "text": [
            "+-------------+--------------------+--------+-------------+--------------------+--------+\n",
            "|    PUBorough|              PUZone|PU_rides|    DOBorough|              DOZone|DO_rides|\n",
            "+-------------+--------------------+--------+-------------+--------------------+--------+\n",
            "|        Bronx|Mott Haven/Port M...|    1913|        Bronx|Mott Haven/Port M...|    1240|\n",
            "|        Bronx|       Melrose South|    1016|        Bronx|       Melrose South|     929|\n",
            "|        Bronx|          Co-Op City|     965|        Bronx|East Concourse/Co...|     898|\n",
            "|        Bronx|      West Concourse|     946|        Bronx|Van Nest/Morris Park|     876|\n",
            "|        Bronx|Soundview/Castle ...|     877|        Bronx|          Co-Op City|     799|\n",
            "|     Brooklyn| Crown Heights North|    6442|     Brooklyn| Crown Heights North|    6627|\n",
            "|     Brooklyn|         Fort Greene|    5645|     Brooklyn|          Park Slope|    5868|\n",
            "|     Brooklyn|         Boerum Hill|    5515|     Brooklyn|       East New York|    4832|\n",
            "|     Brooklyn|          Park Slope|    5326|     Brooklyn|Prospect-Lefferts...|    4522|\n",
            "|     Brooklyn|Downtown Brooklyn...|    5253|     Brooklyn|    Brooklyn Heights|    4471|\n",
            "|    Manhattan|Upper East Side S...|  899413|    Manhattan|Upper East Side N...|  864510|\n",
            "|    Manhattan|      Midtown Center|  868591|    Manhattan|Upper East Side S...|  815519|\n",
            "|    Manhattan|Upper East Side N...|  840075|    Manhattan|      Midtown Center|  689919|\n",
            "|    Manhattan|        Midtown East|  639525|    Manhattan|         Murray Hill|  546742|\n",
            "|    Manhattan| Lincoln Square East|  625910|    Manhattan| Lincoln Square East|  540053|\n",
            "|       Queens|         JFK Airport|  181559|       Queens|         JFK Airport|   32366|\n",
            "|       Queens|   LaGuardia Airport|   80729|       Queens|   LaGuardia Airport|   19350|\n",
            "|       Queens|       East Elmhurst|   10827|       Queens|             Astoria|   17193|\n",
            "|       Queens|           Sunnyside|    8347|       Queens|Long Island City/...|   15343|\n",
            "|       Queens|Long Island City/...|    6904|       Queens|    South Ozone Park|   15318|\n",
            "|Staten Island|           Stapleton|      14|Staten Island|South Beach/Donga...|      22|\n",
            "|Staten Island| Grymes Hill/Clifton|      13|Staten Island|           Stapleton|      16|\n",
            "|Staten Island|Bloomfield/Emerso...|      11|Staten Island|Bloomfield/Emerso...|       9|\n",
            "|Staten Island|South Beach/Donga...|      10|Staten Island|Arrochar/Fort Wad...|       8|\n",
            "|Staten Island|Arrochar/Fort Wad...|       8|Staten Island|Saint George/New ...|       7|\n",
            "+-------------+--------------------+--------+-------------+--------------------+--------+\n",
            "\n"
          ]
        }
      ]
    },
    {
      "cell_type": "code",
      "source": [
        "\"\"\"\n",
        "Data analysis Objective 5 - To analyze and rank total taxes(Jan-June) generated monthly\n",
        "---------------------------------------------------------------------------------------\n",
        "\"\"\""
      ],
      "metadata": {
        "id": "ednXb7_64wLp",
        "colab": {
          "base_uri": "https://localhost:8080/",
          "height": 53
        },
        "outputId": "d4eedd16-85e4-4648-e782-c76f218eb804"
      },
      "execution_count": 42,
      "outputs": [
        {
          "output_type": "execute_result",
          "data": {
            "text/plain": [
              "'\\nData analysis Objective 5 - To analyze and rank total taxes(Jan-June) generated monthly\\n---------------------------------------------------------------------------------------\\n'"
            ],
            "application/vnd.google.colaboratory.intrinsic+json": {
              "type": "string"
            }
          },
          "metadata": {},
          "execution_count": 42
        }
      ]
    },
    {
      "cell_type": "code",
      "source": [
        "# there are 4 tax revenue columns in the dataset - mta_tax, improvement_surcharge, congestion_surcharge and airport_fee\n",
        "# and each has fixed amount per ride\n",
        "# mta_tax = $0.5, imp_sur = $1.0 are fixed and constant\n",
        "# con_sur = $2.5 and airp_fee = $1.75 are subject to the ride destination i.e they can be correctly $0 and their exact fee, but any other amount is an outlier\n",
        "# we detect outliers by any amount not exactly as the above\n",
        "\n",
        "not_mta_tax = Borough_tripdata.filter(col(\"mta_tax\") != 0.5)\n",
        "not_imp_sur = Borough_tripdata.filter(col(\"improvement_surcharge\") != 1.0)\n",
        "not_con_sur = Borough_tripdata.filter((col(\"congestion_surcharge\") != 0.0) & (col(\"congestion_surcharge\") != 2.5))\n",
        "not_airp_fee = Borough_tripdata.filter((col(\"airport_fee\") != 0.0) & (col(\"airport_fee\") != 1.75))\n",
        "\n",
        "count_nmt = not_mta_tax.count()\n",
        "count_nis = not_imp_sur.count()\n",
        "count_ncs = not_con_sur.count()\n",
        "count_naf = not_airp_fee.count()\n",
        "\n",
        "print(f\"The mta_tax outliers rides are {count_nmt} rides\")\n",
        "print(f\"The improvement surcharge outliers rides are {count_nis} rides\")\n",
        "print(f\"The congestion surcharge outliers rides are {count_ncs} rides\")\n",
        "print(f\"The airport fee outliers rides are {count_naf} rides\")\n",
        "\n",
        "print(f\"Total tax outlier rides are {count_nmt + count_nis + count_ncs + count_naf} rides\")"
      ],
      "metadata": {
        "id": "pTktIiM641yR",
        "colab": {
          "base_uri": "https://localhost:8080/"
        },
        "outputId": "21b6c794-1a08-48d1-9138-b4ced46ea6ac"
      },
      "execution_count": 43,
      "outputs": [
        {
          "output_type": "stream",
          "name": "stdout",
          "text": [
            "The mta_tax outliers rides are 100686 rides\n",
            "The improvement surcharge outliers rides are 74491 rides\n",
            "The congestion surcharge outliers rides are 1874054 rides\n",
            "The airport fee outliers rides are 1874063 rides\n",
            "Total tax outlier rides are 3923294 rides\n"
          ]
        }
      ]
    },
    {
      "cell_type": "code",
      "source": [
        "# change both congestion surcharge and airport fee with $0 each\n",
        "\n",
        "from pyspark.sql.functions import when\n",
        "\n",
        "tax_tripdata = Borough_tripdata.withColumn(\"congestion_surcharge\",when((col(\"congestion_surcharge\").isin(0.0, 2.5)), col(\"congestion_surcharge\")).otherwise(0.0)).withColumn(\n",
        "    \"airport_fee\",when((col(\"airport_fee\").isin(0.0, 1.75)), col(\"airport_fee\")).otherwise(0.0))"
      ],
      "metadata": {
        "id": "rrKIZzfK46ZT"
      },
      "execution_count": 44,
      "outputs": []
    },
    {
      "cell_type": "code",
      "source": [
        "from pyspark.sql.functions import month, year, to_date\n",
        "\n",
        "# then also check for outliers are outside the set months of Jan - June and Year is 2024\n",
        "outlier_months = tax_tripdata.filter(\n",
        "    ~((year(\"tpep_pickup_datetime\") == 2024) & (month(\"tpep_pickup_datetime\").isin(1, 2, 3, 4, 5, 6))))\n",
        "count_om = outlier_months.count()\n",
        "print(f\"the total rides outside Jan-June of our dataset are {count_om} rides\")"
      ],
      "metadata": {
        "id": "_3He-1Fw4-2P",
        "colab": {
          "base_uri": "https://localhost:8080/"
        },
        "outputId": "d5b7e075-8733-430a-d357-cba1c7518755"
      },
      "execution_count": 45,
      "outputs": [
        {
          "output_type": "stream",
          "name": "stdout",
          "text": [
            "the total rides outside Jan-June of our dataset are 23 rides\n"
          ]
        }
      ]
    },
    {
      "cell_type": "code",
      "source": [
        "# focus on rides within Jan-June of 2024\n",
        "months_tripdata = tax_tripdata.filter(\n",
        "    (year(\"tpep_pickup_datetime\") == 2024) & (month(\"tpep_pickup_datetime\").isin(1, 2, 3, 4, 5, 6)))"
      ],
      "metadata": {
        "id": "c4y9R74v5GWK"
      },
      "execution_count": 46,
      "outputs": []
    },
    {
      "cell_type": "code",
      "source": [
        "from pyspark.sql.functions import sum as Fsum, concat_ws\n",
        "from pyspark.sql.functions import rank\n",
        "from pyspark.sql.types import DecimalType\n",
        "\n",
        "# arrange each ride by month\n",
        "taxes_month = months_tripdata.withColumn(\"Month\", concat_ws(\"-\", year(\"tpep_pickup_datetime\"), month(\"tpep_pickup_datetime\")))\n",
        "\n",
        "# sum taxes per month\n",
        "total_taxes = taxes_month.groupBy(\"Month\").agg(\n",
        "    Fsum(\"mta_tax\").alias(\"total_mta\"),\n",
        "    Fsum(\"improvement_surcharge\").alias(\"total_improvement\"),\n",
        "    Fsum(\"congestion_surcharge\").alias(\"total_congestion\"),\n",
        "    Fsum(\"airport_fee\").alias(\"total_airport\"))\n",
        "\n",
        "# include the total_tax column above\n",
        "total_taxes = total_taxes.withColumn(\"total_tax\",col(\"total_mta\") + col(\"total_improvement\") + col(\"total_congestion\") + col(\"total_airport\"))\n",
        "\n",
        "\n",
        "# then we rank each month total taxes\n",
        "window_spec = Window.orderBy(col(\"total_tax\").desc())\n",
        "total_taxes = total_taxes.withColumn(\"rank_total_tax\", rank().over(window_spec))\n",
        "\n",
        "# round of total taxes to 2 decimal points\n",
        "total_taxes = total_taxes.withColumn(\"total_tax\", col(\"total_tax\").cast(DecimalType(20, 2)))\n",
        "total_taxes.orderBy(\"rank_total_tax\").show(truncate=False)"
      ],
      "metadata": {
        "id": "QMModHR155x3",
        "colab": {
          "base_uri": "https://localhost:8080/"
        },
        "outputId": "08b64859-95d4-453a-d9b6-65d7dbadef71"
      },
      "execution_count": 47,
      "outputs": [
        {
          "output_type": "stream",
          "name": "stdout",
          "text": [
            "+------+----------+------------------+----------------+-------------+-----------+--------------+\n",
            "|Month |total_mta |total_improvement |total_congestion|total_airport|total_tax  |rank_total_tax|\n",
            "+------+----------+------------------+----------------+-------------+-----------+--------------+\n",
            "|2024-5|1780787.8 |3544556.900000006 |7444807.5       |484601.25    |13254753.45|1             |\n",
            "|2024-3|1715014.09|3445759.3000000063|7109402.5       |439568.5     |12709744.39|2             |\n",
            "|2024-6|1689240.08|3364423.100000006 |7006557.5       |454020.0     |12514240.68|3             |\n",
            "|2024-4|1681907.5 |3380323.000000007 |6971220.0       |444437.0     |12477887.50|4             |\n",
            "|2024-2|1446730.5 |2906084.7000000044|6393280.0       |354947.25    |11101042.45|5             |\n",
            "|2024-1|1426206.0 |2864940.000000005 |6365657.5       |386741.25    |11043544.75|6             |\n",
            "+------+----------+------------------+----------------+-------------+-----------+--------------+\n",
            "\n"
          ]
        }
      ]
    },
    {
      "cell_type": "code",
      "source": [
        "\"\"\"\n",
        "HDFS Task 1 - Write the script that will read the data from HDFS\n",
        "\"\"\"\n",
        "\n",
        "# the script to access HDFS, with an assumption if there was a HDFS_path\n",
        "\n",
        "from pyspark.sql import SparkSession\n",
        "\n",
        "# HDFS path\n",
        "hdfs_path = \"hdfs://namenode_host:9000\"\n",
        "\n",
        "# Paths to the datasets\n",
        "taxi_zone_path = f\"{hdfs_path}/data/taxi/taxi_zone_lookup.csv\"\n",
        "tripdata1_path = f\"{hdfs_path}/data/taxi/yellow_tripdata_2024-01.parquet\"\n",
        "tripdata2_path = f\"{hdfs_path}/data/taxi/yellow_tripdata_2024-02.parquet\"\n",
        "tripdata3_path = f\"{hdfs_path}/data/taxi/yellow_tripdata_2024-03.parquet\"\n",
        "tripdata4_path = f\"{hdfs_path}/data/taxi/yellow_tripdata_2024-04.parquet\"\n",
        "tripdata5_path = f\"{hdfs_path}/data/taxi/yellow_tripdata_2024-05.parquet\"\n",
        "tripdata6_path = f\"{hdfs_path}/data/taxi/yellow_tripdata_2024-06.parquet\"\n",
        "\n",
        "\"\"\"\n",
        "HDFS Task 2 - Save the clean and processed data\n",
        "\"\"\"\n",
        "# path to the cleaned data\n",
        "tripdatav2_path = f\"{hdfs_path}/data/taxi/tripdatav2\"\n",
        "\n",
        "# Save it\n",
        "tripdatav2.write.mode(\"overwrite\").format(\"csv\").save(\"tripdatav2_path\")"
      ],
      "metadata": {
        "id": "bw6DWgDLeUpv"
      },
      "execution_count": null,
      "outputs": []
    }
  ]
}